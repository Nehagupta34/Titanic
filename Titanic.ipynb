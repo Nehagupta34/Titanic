import pandas as pd
import numpy as np
import matplotlib.pyplot as plt
%matplotlib inline
from sklearn.ensemble import RandomForestClassifier
from sklearn.preprocessing import LabelEncoder
from sklearn import preprocessing
from sklearn.model_selection import train_test_split
from sklearn.metrics import confusion_matrix, classification_report
from sklearn.model_selection import KFold, cross_val_score

# Input data files are available in the read-only "../input/" directory
# For example, running this (by clicking run or pressing Shift+Enter) will list all files under the input directory

import os
for dirname, _, filenames in os.walk('C:\Users\NEHA GUPTA\Desktop\input'):
    for filename in filenames:
        print(os.path.join(dirname, filename))
df = pd.read_csv(r'C:\Users\NEHA GUPTA\Desktop\input\titanic\train.csv')

print("Columns", df.columns.tolist())
df.head()
#Exploratory data analysis
#1. Male/Female survival
survived = df[df['Survived'] == 1]
not_survived = df[df['Survived'] == 0]

male_survived = survived[survived['Sex']=='male']
female_survived = survived[survived['Sex']=='female']

male_not_survived = not_survived[not_survived['Sex']=='male']
female_not_survived = not_survived[not_survived['Sex']=='female']

print("Total no of passenger survived: ", survived['PassengerId'].count())
print("Total no of Male passenger survived: ", male_survived['PassengerId'].count())
print("Total no of Female passenger survived: ", female_survived['PassengerId'].count())

print("Total no of passenger not survived: ", not_survived['PassengerId'].count())
print("Total no of Male passenger not survived: ", male_not_survived['PassengerId'].count())
print("Total no of Female passenger not survived: ", female_not_survived['PassengerId'].count())

print("Total no of passenger onboarded: ", df['PassengerId'].count())
# limit to categorical data using df.select_dtypes()
categorical_df = df.select_dtypes(include=[object])
categorical_df.head(3)

encoded_sex_col = pd.get_dummies(df['Sex'])
encoded_embarked_col = pd.get_dummies(df['Embarked'])
#pd.get_dummies(df['Ticket'])


encoded_df = pd.concat([df,encoded_sex_col, encoded_embarked_col], axis='columns')
print(encoded_df.head(3))


final = encoded_df.drop(['Q', 'male'], axis='columns')
print("################## Dataframe after Step 3 ############")
print(final.head(3))
# Dropping unnecessary features
final = final.drop(['PassengerId', 'Name', 'Ticket', 'Cabin', 'Sex', 'Embarked'], axis='columns')
print(final.head())


final = final.dropna(axis = 0, how ='any')
# bit of work which is "Train-Test Split" which we would keep in 70:30 ratio.
features = [c for c in final.columns.tolist() if c not in ['Survived']]
target = ['Survived']

X_train, X_test, y_train, y_test = train_test_split(final[features], final[target], test_size=0.30, random_state=42)

print(X_train.head())
#Training the Model
# Training model
kf = KFold(n_splits=20)
print(kf)

rfc = RandomForestClassifier(max_depth=50, random_state=0, n_jobs=10, n_estimators=150)
scores = []
for train_index, test_index in kf.split(final):
    # print("TRAIN:", train_index, "TEST:", test_index)
    train, test = final.iloc[train_index], final.iloc[test_index]

    rfc.fit(train[features], train[target].values.ravel())
    print("Score:", rfc.score(test[features], test[target]))
    scores.append(rfc.score(test[features], test[target]))

#Model Evaluation
y_prediction = rfc.predict(X_test)
y_prediction

print("################## Confusion Matrix ##################")
print(confusion_matrix(y_test, y_prediction))
print("################## Classification Report ##################")
print(classification_report(y_test, y_prediction))

print("Score:", rfc.score(X_test, y_test))
print("################## Classification Report ##################")
print(classification_report(y_test, y_prediction))

print("Score:", rfc.score(X_test, y_test))